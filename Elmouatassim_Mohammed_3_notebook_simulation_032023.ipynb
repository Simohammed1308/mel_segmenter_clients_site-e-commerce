{
 "cells": [
  {
   "cell_type": "markdown",
   "id": "9da9be8f",
   "metadata": {},
   "source": [
    "# Projet 5 | Segmentez des clients d'un site e-commerce\n",
    "## Partie 3 | Simulation"
   ]
  },
  {
   "cell_type": "code",
   "execution_count": 1,
   "id": "79dfc39d",
   "metadata": {},
   "outputs": [],
   "source": [
    "import pandas as pd\n",
    "import matplotlib.pyplot as plt\n",
    "import seaborn as sns\n",
    "from sklearn import cluster\n",
    "from sklearn.metrics.cluster import adjusted_rand_score"
   ]
  },
  {
   "cell_type": "code",
   "execution_count": 2,
   "id": "ecf1c9ef",
   "metadata": {},
   "outputs": [],
   "source": [
    "data = pd.read_csv(\"data/data_cleaned\",index_col=0)"
   ]
  },
  {
   "cell_type": "code",
   "execution_count": 3,
   "id": "1077e9be",
   "metadata": {},
   "outputs": [],
   "source": [
    "X_RFM = data[[\"Montant\",\"Frequence\",\"Recence\"]]"
   ]
  },
  {
   "cell_type": "code",
   "execution_count": 4,
   "id": "618746e1",
   "metadata": {},
   "outputs": [],
   "source": [
    "X_RFM_avis = data[[\"Montant\",\"Frequence\",\"Recence\",\"Avis\"]]"
   ]
  },
  {
   "cell_type": "code",
   "execution_count": 5,
   "id": "53f0f57a",
   "metadata": {},
   "outputs": [],
   "source": [
    "## Contrat de maintenance"
   ]
  },
  {
   "cell_type": "code",
   "execution_count": 6,
   "id": "75031438",
   "metadata": {},
   "outputs": [
    {
     "data": {
      "text/plain": [
       "(1585, 2279)"
      ]
     },
     "execution_count": 6,
     "metadata": {},
     "output_type": "execute_result"
    }
   ],
   "source": [
    "X_RFM['Recence'].min(),X_RFM['Recence'].max()"
   ]
  },
  {
   "cell_type": "code",
   "execution_count": 7,
   "id": "a3ff10b1",
   "metadata": {},
   "outputs": [
    {
     "name": "stdout",
     "output_type": "stream",
     "text": [
      "La date d'achat la plus récente 2018-09-03 correspond à un nombre de jours écoulé = 1585 jours et la date d'achat la plus ancienne 2016-10-04 correspond à un nombre de jours écoulé = 2279 jours.\n"
     ]
    }
   ],
   "source": [
    "print(\"La date d'achat la plus récente 2018-09-03 correspond à un nombre de jours écoulé = {} jours et la date d'achat la plus ancienne 2016-10-04 correspond à un nombre de jours écoulé = {} jours.\".format(X_RFM.Recence.min(),X_RFM.Recence.max()))"
   ]
  },
  {
   "cell_type": "markdown",
   "id": "b447d3da",
   "metadata": {},
   "source": [
    "Comme la base de données est très variable en fonction du temps. Je vais créer un premier fichier initial de clients sans les derniers 45 jours: "
   ]
  },
  {
   "cell_type": "code",
   "execution_count": 8,
   "id": "cecb0569",
   "metadata": {},
   "outputs": [
    {
     "data": {
      "text/plain": [
       "1630"
      ]
     },
     "execution_count": 8,
     "metadata": {},
     "output_type": "execute_result"
    }
   ],
   "source": [
    "1585+45"
   ]
  },
  {
   "cell_type": "code",
   "execution_count": 9,
   "id": "d1e5632c",
   "metadata": {},
   "outputs": [],
   "source": [
    "F0 = X_RFM[X_RFM.Recence>=1630]\n",
    "\n",
    "cluster_F0 = cluster.KMeans(n_clusters=4) # Clustering with KMeans by using the best k \n",
    "modèle_F0 = cluster_F0.fit(F0)"
   ]
  },
  {
   "cell_type": "markdown",
   "id": "c7d59a78",
   "metadata": {},
   "source": [
    "Je vais maintenant créer un nouveau fichier F1 en incluant les clients qui ont achetés dans les 5 jours suivants:"
   ]
  },
  {
   "cell_type": "code",
   "execution_count": 10,
   "id": "5d68cd23",
   "metadata": {},
   "outputs": [],
   "source": [
    "F1 = X_RFM[X_RFM.Recence>=1625]\n",
    "\n",
    "cluster_F1 = cluster.KMeans(n_clusters=4)\n",
    "modèle_F1 = cluster_F1.fit(F1)\n",
    "\n",
    "F1_pred = modèle_F0.predict(F1) # The clustering of the F1 database is predicted by using the model F0 "
   ]
  },
  {
   "cell_type": "markdown",
   "id": "b6fd793c",
   "metadata": {},
   "source": [
    "Le score de Rand adjusté nous permets de voir s'il existe une similarité entre les clusters prédits et vrais. Un score proche de 0 est donné pour un étiquetage aléatoire et 1 lorsque les clusterings sont identiques."
   ]
  },
  {
   "cell_type": "code",
   "execution_count": 11,
   "id": "bb8f250b",
   "metadata": {},
   "outputs": [
    {
     "data": {
      "text/plain": [
       "0.9903510662281868"
      ]
     },
     "execution_count": 11,
     "metadata": {},
     "output_type": "execute_result"
    }
   ],
   "source": [
    "rand_0 = adjusted_rand_score(modèle_F1.labels_, F1_pred)\n",
    "rand_0 # Rand score computed the similarity between predicted and true clusters after 5 days. "
   ]
  },
  {
   "cell_type": "markdown",
   "id": "6b3824dc",
   "metadata": {},
   "source": [
    "Je vais maintenant créer un nouveau fichier F2 en incluant les clients qui ont achetés dans les 10 jours suivants:"
   ]
  },
  {
   "cell_type": "code",
   "execution_count": 12,
   "id": "4c5786b6",
   "metadata": {},
   "outputs": [],
   "source": [
    "F2 = X_RFM[X_RFM.Recence>=1620]\n",
    "\n",
    "cluster_F2 = cluster.KMeans(n_clusters=4)\n",
    "modèle_F2 = cluster_F2.fit(F2)\n",
    "\n",
    "F2_Predict = modèle_F0.predict(F2)"
   ]
  },
  {
   "cell_type": "code",
   "execution_count": 13,
   "id": "2004854e",
   "metadata": {},
   "outputs": [
    {
     "data": {
      "text/plain": [
       "0.9733009232893228"
      ]
     },
     "execution_count": 13,
     "metadata": {},
     "output_type": "execute_result"
    }
   ],
   "source": [
    "rand_1 = adjusted_rand_score(modèle_F2.labels_, F2_Predict)\n",
    "rand_1 # Rand score computed the similarity between predicted and true clusters after 10 days."
   ]
  },
  {
   "cell_type": "markdown",
   "id": "4fd9abea",
   "metadata": {},
   "source": [
    "Je vais maintenant créer un nouveau groupe F3 en incluant les clients qui ont achetés dans les 15 jours suivants:"
   ]
  },
  {
   "cell_type": "code",
   "execution_count": 14,
   "id": "2817cb70",
   "metadata": {},
   "outputs": [],
   "source": [
    "F3 = X_RFM[X_RFM.Recence>=1615]\n",
    "\n",
    "cluster_F3 = cluster.KMeans(n_clusters=4)\n",
    "modèle_F3 = cluster_F3.fit(F3)\n",
    "\n",
    "F3_pred = modèle_F0.predict(F3)"
   ]
  },
  {
   "cell_type": "code",
   "execution_count": 15,
   "id": "ec91b5d4",
   "metadata": {},
   "outputs": [
    {
     "data": {
      "text/plain": [
       "0.9540751399885109"
      ]
     },
     "execution_count": 15,
     "metadata": {},
     "output_type": "execute_result"
    }
   ],
   "source": [
    "rand_2 = adjusted_rand_score(modèle_F3.labels_, F3_pred)\n",
    "rand_2 # Rand score computed the similarity between predicted and true clusters after 15 days. "
   ]
  },
  {
   "cell_type": "markdown",
   "id": "c9abd3cb",
   "metadata": {},
   "source": [
    "Je vais continuer à faire des simulations en augmentant 5 jours"
   ]
  },
  {
   "cell_type": "code",
   "execution_count": 16,
   "id": "bac14ffe",
   "metadata": {},
   "outputs": [],
   "source": [
    "F4 = X_RFM[X_RFM.Recence>=1610]\n",
    "\n",
    "cluster_F4 = cluster.KMeans(n_clusters=4)\n",
    "modèle_F4 = cluster_F4.fit(F4)\n",
    "\n",
    "F4_pred = modèle_F0.predict(F4)"
   ]
  },
  {
   "cell_type": "code",
   "execution_count": 17,
   "id": "afb4365b",
   "metadata": {},
   "outputs": [
    {
     "data": {
      "text/plain": [
       "0.9364442731105578"
      ]
     },
     "execution_count": 17,
     "metadata": {},
     "output_type": "execute_result"
    }
   ],
   "source": [
    "rand_3 = adjusted_rand_score(modèle_F4.labels_, F4_pred)\n",
    "rand_3 # Rand score computed the similarity between predicted and true clusters after 20 days."
   ]
  },
  {
   "cell_type": "code",
   "execution_count": 18,
   "id": "e8bb4ce1",
   "metadata": {},
   "outputs": [],
   "source": [
    "F5 = X_RFM[X_RFM.Recence>=1605]\n",
    "\n",
    "cluster_F5 = cluster.KMeans(n_clusters=4)\n",
    "modèle_F5 = cluster_F5.fit(F5)\n",
    "\n",
    "F5_pred = modèle_F0.predict(F5)"
   ]
  },
  {
   "cell_type": "code",
   "execution_count": 19,
   "id": "e0b3416b",
   "metadata": {},
   "outputs": [
    {
     "data": {
      "text/plain": [
       "0.901063911134684"
      ]
     },
     "execution_count": 19,
     "metadata": {},
     "output_type": "execute_result"
    }
   ],
   "source": [
    "rand_4 = adjusted_rand_score(modèle_F5.labels_, F5_pred)\n",
    "rand_4 # Rand score computed the similarity between predicted and true clusters after 25 days."
   ]
  },
  {
   "cell_type": "code",
   "execution_count": 20,
   "id": "6a5a587d",
   "metadata": {},
   "outputs": [],
   "source": [
    "F6 = X_RFM[X_RFM.Recence>=1600]\n",
    "\n",
    "cluster_F6 = cluster.KMeans(n_clusters=4)\n",
    "modèle_F6 = cluster_F5.fit(F6)\n",
    "\n",
    "F6_pred = modèle_F0.predict(F6)"
   ]
  },
  {
   "cell_type": "code",
   "execution_count": 21,
   "id": "4e5ad939",
   "metadata": {},
   "outputs": [
    {
     "data": {
      "text/plain": [
       "0.6910902902005663"
      ]
     },
     "execution_count": 21,
     "metadata": {},
     "output_type": "execute_result"
    }
   ],
   "source": [
    "rand_5 = adjusted_rand_score(modèle_F6.labels_, F6_pred)\n",
    "rand_5 # Rand score computed the similarity between predicted and true clusters after 30 days."
   ]
  },
  {
   "cell_type": "code",
   "execution_count": 22,
   "id": "68f43cc1",
   "metadata": {},
   "outputs": [
    {
     "data": {
      "text/html": [
       "<div>\n",
       "<style scoped>\n",
       "    .dataframe tbody tr th:only-of-type {\n",
       "        vertical-align: middle;\n",
       "    }\n",
       "\n",
       "    .dataframe tbody tr th {\n",
       "        vertical-align: top;\n",
       "    }\n",
       "\n",
       "    .dataframe thead th {\n",
       "        text-align: right;\n",
       "    }\n",
       "</style>\n",
       "<table border=\"1\" class=\"dataframe\">\n",
       "  <thead>\n",
       "    <tr style=\"text-align: right;\">\n",
       "      <th></th>\n",
       "      <th>Temps</th>\n",
       "      <th>Adjusted Rand Score</th>\n",
       "    </tr>\n",
       "  </thead>\n",
       "  <tbody>\n",
       "    <tr>\n",
       "      <th>0</th>\n",
       "      <td>5</td>\n",
       "      <td>0.990351</td>\n",
       "    </tr>\n",
       "    <tr>\n",
       "      <th>1</th>\n",
       "      <td>10</td>\n",
       "      <td>0.973301</td>\n",
       "    </tr>\n",
       "    <tr>\n",
       "      <th>2</th>\n",
       "      <td>15</td>\n",
       "      <td>0.954075</td>\n",
       "    </tr>\n",
       "    <tr>\n",
       "      <th>3</th>\n",
       "      <td>20</td>\n",
       "      <td>0.936444</td>\n",
       "    </tr>\n",
       "    <tr>\n",
       "      <th>4</th>\n",
       "      <td>25</td>\n",
       "      <td>0.901064</td>\n",
       "    </tr>\n",
       "    <tr>\n",
       "      <th>5</th>\n",
       "      <td>30</td>\n",
       "      <td>0.691090</td>\n",
       "    </tr>\n",
       "  </tbody>\n",
       "</table>\n",
       "</div>"
      ],
      "text/plain": [
       "  Temps  Adjusted Rand Score\n",
       "0     5             0.990351\n",
       "1    10             0.973301\n",
       "2    15             0.954075\n",
       "3    20             0.936444\n",
       "4    25             0.901064\n",
       "5    30             0.691090"
      ]
     },
     "execution_count": 22,
     "metadata": {},
     "output_type": "execute_result"
    }
   ],
   "source": [
    "rand = ({\"5\":[rand_0],\"10\":[rand_1],\"15\":[rand_2],\"20\":[rand_3],\"25\":[rand_4], \"30\":[rand_5]})\n",
    "rand = pd.DataFrame(rand).T.reset_index()\n",
    "rand.columns = [\"Temps\",\"Adjusted Rand Score\"]\n",
    "rand"
   ]
  },
  {
   "cell_type": "code",
   "execution_count": 23,
   "id": "58ca942e",
   "metadata": {},
   "outputs": [
    {
     "data": {
      "text/plain": [
       "[Text(0.5, 1.0, 'Adjusted Rand score  en fonction du délai de prédiction')]"
      ]
     },
     "execution_count": 23,
     "metadata": {},
     "output_type": "execute_result"
    },
    {
     "data": {
      "image/png": "[encoded data removed]",
      "text/plain": [
       "<Figure size 1000x700 with 1 Axes>"
      ]
     },
     "metadata": {},
     "output_type": "display_data"
    }
   ],
   "source": [
    "plt.figure(figsize=(10,7))\n",
    "\n",
    "sns.set(font_scale = 1.2)\n",
    "sns.set_style(\"whitegrid\") \n",
    "sns.lineplot(x=\"Temps\",y=\"Adjusted Rand Score\",data=rand,markers=True).set(title=\"Adjusted Rand score  en fonction du délai de prédiction\")"
   ]
  },
  {
   "cell_type": "markdown",
   "id": "212ae36f",
   "metadata": {},
   "source": [
    "D'après les résultats du Rand score il est conseillé de faire une maintenance du clustering tout les 15 jours environ. \n",
    "Je vais maintenanct évaluer ce délai avec toute la database :\n",
    " - Je vais entrainer la base de données contenant des achats effectués sans tenir compte des derniers 15 jours et puis je vais voir si mon modèle peut prédire le clustering de la database finale :"
   ]
  },
  {
   "cell_type": "code",
   "execution_count": 42,
   "id": "efd634ac",
   "metadata": {},
   "outputs": [
    {
     "data": {
      "text/plain": [
       "1600"
      ]
     },
     "execution_count": 42,
     "metadata": {},
     "output_type": "execute_result"
    }
   ],
   "source": [
    "1585+15"
   ]
  },
  {
   "cell_type": "code",
   "execution_count": 43,
   "id": "cc7ef50b",
   "metadata": {},
   "outputs": [],
   "source": [
    "F01 = X_RFM[X_RFM.Recence>=1600]\n",
    "\n",
    "cluster_F01 = cluster.KMeans(n_clusters=4)\n",
    "modèle_F01 = cluster_F01.fit(F01)"
   ]
  },
  {
   "cell_type": "code",
   "execution_count": 44,
   "id": "964a2dbd",
   "metadata": {},
   "outputs": [],
   "source": [
    "F02 = X_RFM[X_RFM.Recence>=1585]\n",
    "\n",
    "cluster_F02 = cluster.KMeans(n_clusters=4)\n",
    "modèle_F02 = cluster_F02.fit(F02)\n",
    "\n",
    "F02_pred = modèle_F01.predict(F02)"
   ]
  },
  {
   "cell_type": "code",
   "execution_count": 45,
   "id": "ccb7abb5",
   "metadata": {},
   "outputs": [
    {
     "data": {
      "text/plain": [
       "0.94481749280827"
      ]
     },
     "execution_count": 45,
     "metadata": {},
     "output_type": "execute_result"
    }
   ],
   "source": [
    "rand = adjusted_rand_score(modèle_F02.labels_, F02_pred)\n",
    "rand"
   ]
  },
  {
   "cell_type": "markdown",
   "id": "1282a3ff",
   "metadata": {},
   "source": [
    "**Le score du Rand adjusté est élevé nous permet de conclure que un délai de 15 jours est éfficace pour prédire des clusters similaires aux vrais clusters**"
   ]
  },
  {
   "cell_type": "markdown",
   "id": "1751ad43",
   "metadata": {},
   "source": [
    "### Fin"
   ]
  },
  {
   "cell_type": "code",
   "execution_count": null,
   "id": "c5bc9325",
   "metadata": {},
   "outputs": [],
   "source": []
  }
 ],
 "metadata": {
  "kernelspec": {
   "display_name": "Python 3 (ipykernel)",
   "language": "python",
   "name": "python3"
  },
  "language_info": {
   "codemirror_mode": {
    "name": "ipython",
    "version": 3
   },
   "file_extension": ".py",
   "mimetype": "text/x-python",
   "name": "python",
   "nbconvert_exporter": "python",
   "pygments_lexer": "ipython3",
   "version": "3.9.13"
  }
 },
 "nbformat": 4,
 "nbformat_minor": 5
}
